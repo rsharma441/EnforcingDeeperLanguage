{
 "cells": [
  {
   "cell_type": "markdown",
   "metadata": {},
   "source": [
    "## Enforcing Deeper Language Understanding of Context: The Case of the Story Cloze Test Set"
   ]
  },
  {
   "cell_type": "markdown",
   "metadata": {},
   "source": [
    "### Data Load"
   ]
  },
  {
   "cell_type": "markdown",
   "metadata": {},
   "source": [
    "We load in the data as well create a vector for Right and Wrong answers"
   ]
  },
  {
   "cell_type": "code",
   "execution_count": 1,
   "metadata": {},
   "outputs": [
    {
     "data": {
      "text/html": [
       "<script>requirejs.config({paths: { 'plotly': ['https://cdn.plot.ly/plotly-latest.min']},});if(!window.Plotly) {{require(['plotly'],function(plotly) {window.Plotly=plotly;});}}</script>"
      ],
      "text/vnd.plotly.v1+html": [
       "<script>requirejs.config({paths: { 'plotly': ['https://cdn.plot.ly/plotly-latest.min']},});if(!window.Plotly) {{require(['plotly'],function(plotly) {window.Plotly=plotly;});}}</script>"
      ]
     },
     "metadata": {},
     "output_type": "display_data"
    }
   ],
   "source": [
    "import pandas as pd\n",
    "import nltk\n",
    "from scipy import stats\n",
    "import plotly.plotly as py\n",
    "from plotly import tools\n",
    "import plotly.graph_objs as go\n",
    "import plotly.figure_factory as ff\n",
    "from plotly.offline import download_plotlyjs, init_notebook_mode, plot, iplot\n",
    "\n",
    "init_notebook_mode(connected=True)\n"
   ]
  },
  {
   "cell_type": "code",
   "execution_count": 2,
   "metadata": {
    "collapsed": true
   },
   "outputs": [],
   "source": [
    "data=pd.read_csv('full_data.csv', delimiter='\\t')\n",
    "data.index = data['InputStoryid']\n",
    "right_answers=data['rightanswer']\n",
    "wrong_answers=data['wronganswer']"
   ]
  },
  {
   "cell_type": "markdown",
   "metadata": {},
   "source": [
    "### Word Distribution\n",
    "We analyze the frequent unigrams, bigrams and trigrams between Right and Wrong answers. "
   ]
  },
  {
   "cell_type": "code",
   "execution_count": 72,
   "metadata": {
    "collapsed": true
   },
   "outputs": [],
   "source": [
    "right_unigrams = pd.read_csv('word_dist/right_uni_dist.tsv', delimiter='\\t', index_col=0)\n",
    "wrong_unigrams = pd.read_csv('word_dist/wrong_uni_dist.tsv', delimiter='\\t', index_col=0)"
   ]
  },
  {
   "cell_type": "code",
   "execution_count": 74,
   "metadata": {},
   "outputs": [
    {
     "name": "stdout",
     "output_type": "stream",
     "text": [
      "         count\n",
      "word          \n",
      "decided     81\n",
      "time        73\n",
      "got         73\n",
      "went        62\n",
      "day         61\n",
      "home        57\n",
      "made        55\n",
      "great       52\n",
      "felt        52\n",
      "new         50\n",
      "found       49\n",
      "friends     44\n",
      "loved       38\n",
      "became      35\n",
      "go          33\n",
      "money       31\n",
      "back        31\n",
      "dog         30\n",
      "enjoyed     28\n",
      "better      28\n"
     ]
    }
   ],
   "source": [
    "print(right_unigrams.head(20))"
   ]
  },
  {
   "cell_type": "code",
   "execution_count": 75,
   "metadata": {},
   "outputs": [
    {
     "name": "stdout",
     "output_type": "stream",
     "text": [
      "         count\n",
      "word          \n",
      "decided    167\n",
      "went        79\n",
      "never       78\n",
      "home        65\n",
      "didnt       65\n",
      "hated       50\n",
      "felt        49\n",
      "got         47\n",
      "go          46\n",
      "day         45\n",
      "away        44\n",
      "told        43\n",
      "gave        39\n",
      "dog         36\n",
      "new         35\n",
      "back        35\n",
      "threw       34\n",
      "time        31\n",
      "like        29\n",
      "get         28\n"
     ]
    }
   ],
   "source": [
    "print(wrong_unigrams.head(20))"
   ]
  },
  {
   "cell_type": "code",
   "execution_count": 78,
   "metadata": {},
   "outputs": [
    {
     "name": "stdout",
     "output_type": "stream",
     "text": [
      "               word  count\n",
      "2689      greattime     21\n",
      "76         wenthome     16\n",
      "2980        nextday     14\n",
      "2929        saidyes     11\n",
      "1699     decidedbuy      7\n",
      "1332         goback      6\n",
      "3858      decidedgo      6\n",
      "2771  wonderfultime      5\n",
      "1251      rightaway      5\n",
      "3793       icecream      5\n",
      "82          gothome      5\n",
      "2028         gohome      5\n",
      "3055     feltbetter      5\n",
      "3201       nexttime      4\n",
      "1033     muchbetter      4\n",
      "2011      madeplans      4\n",
      "1789         lotfun      4\n",
      "1884  learnedlesson      4\n",
      "3802       greatday      4\n",
      "1379        gotsick      4\n"
     ]
    }
   ],
   "source": [
    "right_bigrams = pd.read_csv('word_dist/right_bi_dist.tsv', delimiter='\\t', index_col=0)\n",
    "wrong_bigrams = pd.read_csv('word_dist/wrong_bi_dist.tsv', delimiter='\\t', index_col=0)\n",
    "print(right_bigrams.head(20))\n"
   ]
  },
  {
   "cell_type": "code",
   "execution_count": 79,
   "metadata": {},
   "outputs": [
    {
     "name": "stdout",
     "output_type": "stream",
     "text": [
      "              word  count\n",
      "82        wenthome     18\n",
      "3871     decidedgo     18\n",
      "1430     didntwant     14\n",
      "188   decidednever     14\n",
      "3799      icecream     13\n",
      "3537     didntlike     12\n",
      "1371     threwaway     11\n",
      "827       wentback      9\n",
      "3001       nextday      9\n",
      "2195    vowednever      8\n",
      "547   decideddidnt      8\n",
      "1693    decidedbuy      8\n",
      "1786      everyday      7\n",
      "32      walkedaway      6\n",
      "2436     didntcare      6\n",
      "1680    decidedget      6\n",
      "804       backhome      6\n",
      "2312       nevergo      5\n",
      "2388     didntknow      5\n",
      "3562   decidedquit      5\n"
     ]
    }
   ],
   "source": [
    "print(wrong_bigrams.head(20))"
   ]
  },
  {
   "cell_type": "markdown",
   "metadata": {},
   "source": [
    "### Sentence Length and Number of Words"
   ]
  },
  {
   "cell_type": "markdown",
   "metadata": {},
   "source": [
    "Create a vector for sentence length, number of words and the differences between the two. "
   ]
  },
  {
   "cell_type": "code",
   "execution_count": 3,
   "metadata": {},
   "outputs": [
    {
     "name": "stdout",
     "output_type": "stream",
     "text": [
      "Avg Length of Right Ans: 39.7637626937 Avg Length of Wrong Ans: 39.1063602352\n",
      "High five! You successfully sent some data to your account on plotly. View your plot in your browser at https://plot.ly/~rsharma441/0 or inside your plot.ly account where it is named 'Plot of Answers Length'\n"
     ]
    },
    {
     "data": {
      "text/html": [
       "<iframe id=\"igraph\" scrolling=\"no\" style=\"border:none;\" seamless=\"seamless\" src=\"https://plot.ly/~rsharma441/0.embed\" height=\"525px\" width=\"100%\"></iframe>"
      ],
      "text/plain": [
       "<plotly.tools.PlotlyDisplay object>"
      ]
     },
     "execution_count": 3,
     "metadata": {},
     "output_type": "execute_result"
    }
   ],
   "source": [
    "right_len=right_answers.str.len()\n",
    "wrong_len=wrong_answers.str.len()\n",
    "print'Avg Length of Right Ans:' , right_len.mean(), 'Avg Length of Wrong Ans:' , wrong_len.mean()\n",
    "\n",
    "lengths = [right_len.as_matrix(),wrong_len.as_matrix()]\n",
    "len_labels = ['right_answer_len', 'wrong_answer_len']\n",
    "fig = ff.create_distplot(lengths, len_labels)\n",
    "py.iplot(fig, filename='Plot of Answers Length')"
   ]
  },
  {
   "cell_type": "code",
   "execution_count": 4,
   "metadata": {},
   "outputs": [
    {
     "name": "stdout",
     "output_type": "stream",
     "text": [
      "Avg NumWords of Right Ans: 8.75734901122 Avg NumWords of Wrong Ans: 8.59540352753\n"
     ]
    },
    {
     "data": {
      "text/html": [
       "<iframe id=\"igraph\" scrolling=\"no\" style=\"border:none;\" seamless=\"seamless\" src=\"https://plot.ly/~rsharma441/4.embed\" height=\"525px\" width=\"100%\"></iframe>"
      ],
      "text/plain": [
       "<plotly.tools.PlotlyDisplay object>"
      ]
     },
     "execution_count": 4,
     "metadata": {},
     "output_type": "execute_result"
    }
   ],
   "source": [
    "right_numwords=right_answers.apply(nltk.word_tokenize).apply(len)\n",
    "wrong_numwords=wrong_answers.apply(nltk.word_tokenize).apply(len)\n",
    "print'Avg NumWords of Right Ans:' , right_numwords.mean(), 'Avg NumWords of Wrong Ans:' , wrong_numwords.mean()\n",
    "num_words = [right_numwords.as_matrix(),wrong_numwords.as_matrix()]\n",
    "nw_labels = ['right_answer_numwords', 'wrong_answer_numwords']\n",
    "fig = ff.create_distplot(num_words, nw_labels)\n",
    "py.iplot(fig, filename='Plot of Num Word')"
   ]
  },
  {
   "cell_type": "markdown",
   "metadata": {},
   "source": [
    "Let us conduct a t-test to see if there is a significant difference between the right and wrong length and numwords."
   ]
  },
  {
   "cell_type": "code",
   "execution_count": 5,
   "metadata": {},
   "outputs": [
    {
     "name": "stdout",
     "output_type": "stream",
     "text": [
      "Length Test Statistic: 1.60146923754 Length Test pValue: 0.109358238941\n",
      "Num Words Test Statistic: 1.89991428244 Length Test pValue: 0.0575218185857\n"
     ]
    }
   ],
   "source": [
    "length_test = stats.ttest_ind(right_len,wrong_len,equal_var=False)\n",
    "numwords_test = stats.ttest_ind(right_numwords,wrong_numwords,equal_var=False)\n",
    "print 'Length Test Statistic:', length_test[0], \"Length Test pValue:\" , length_test[1]\n",
    "print 'Num Words Test Statistic:', numwords_test[0], \"Length Test pValue:\", numwords_test[1]"
   ]
  },
  {
   "cell_type": "markdown",
   "metadata": {},
   "source": [
    "### Sentiment Analysis"
   ]
  },
  {
   "cell_type": "code",
   "execution_count": 6,
   "metadata": {},
   "outputs": [
    {
     "name": "stderr",
     "output_type": "stream",
     "text": [
      "/Users/rishi/anaconda/lib/python2.7/site-packages/nltk/twitter/__init__.py:20: UserWarning:\n",
      "\n",
      "The twython library has not been installed. Some functionality from the twitter package will not be available.\n",
      "\n"
     ]
    }
   ],
   "source": [
    "from nltk.sentiment.vader import SentimentIntensityAnalyzer\n",
    "\n",
    "analyzer = SentimentIntensityAnalyzer()\n",
    "headers= ['neg', 'neu', 'pos', 'compound']\n",
    "\n",
    "right_answers=data['rightanswer'].to_frame()\n",
    "wrong_answers=data['wronganswer'].to_frame()\n",
    "\n",
    "right_sent = right_answers.join(pd.DataFrame([analyzer.polarity_scores(sentence) for sentence in right_answers['rightanswer']], index=data.index, columns=headers))\n",
    "wrong_sent = wrong_answers.join(pd.DataFrame([analyzer.polarity_scores(sentence) for sentence in wrong_answers['wronganswer']], index=data.index, columns=headers))"
   ]
  },
  {
   "cell_type": "code",
   "execution_count": 7,
   "metadata": {
    "scrolled": true
   },
   "outputs": [
    {
     "data": {
      "text/html": [
       "<iframe id=\"igraph\" scrolling=\"no\" style=\"border:none;\" seamless=\"seamless\" src=\"https://plot.ly/~rsharma441/6.embed\" height=\"525px\" width=\"100%\"></iframe>"
      ],
      "text/plain": [
       "<plotly.tools.PlotlyDisplay object>"
      ]
     },
     "execution_count": 7,
     "metadata": {},
     "output_type": "execute_result"
    }
   ],
   "source": [
    "neg_sent = [right_sent['neg'].as_matrix(), wrong_sent['neg'].as_matrix()]\n",
    "neu_sent = [right_sent['neu'].as_matrix(), wrong_sent['neu'].as_matrix()]\n",
    "pos_sent = [right_sent['pos'].as_matrix(), wrong_sent['pos'].as_matrix()]\n",
    "comp_sent = [right_sent['compound'].as_matrix(), wrong_sent['compound'].as_matrix()]\n",
    "neg_labels = ['right_neg', 'wrong_neg']\n",
    "neu_labels = ['right_neu', 'wrong_neu']\n",
    "pos_labels = ['right_pos', 'wrong_pos']\n",
    "comp_labels = ['right_comp', 'wrong_comp']\n",
    "fig_neg = ff.create_distplot(neg_sent, neg_labels, show_hist=False, show_rug=False)\n",
    "py.iplot(fig_neg, filename='Plot of Neg Sentiment')"
   ]
  },
  {
   "cell_type": "code",
   "execution_count": 8,
   "metadata": {},
   "outputs": [
    {
     "data": {
      "text/html": [
       "<iframe id=\"igraph\" scrolling=\"no\" style=\"border:none;\" seamless=\"seamless\" src=\"https://plot.ly/~rsharma441/8.embed\" height=\"525px\" width=\"100%\"></iframe>"
      ],
      "text/plain": [
       "<plotly.tools.PlotlyDisplay object>"
      ]
     },
     "execution_count": 8,
     "metadata": {},
     "output_type": "execute_result"
    }
   ],
   "source": [
    "fig_neu = ff.create_distplot(neu_sent, neu_labels, show_hist=False, show_rug=False)\n",
    "py.iplot(fig_neu, filename='Plot of Neu Sentiment')"
   ]
  },
  {
   "cell_type": "code",
   "execution_count": 9,
   "metadata": {},
   "outputs": [
    {
     "data": {
      "text/html": [
       "<iframe id=\"igraph\" scrolling=\"no\" style=\"border:none;\" seamless=\"seamless\" src=\"https://plot.ly/~rsharma441/10.embed\" height=\"525px\" width=\"100%\"></iframe>"
      ],
      "text/plain": [
       "<plotly.tools.PlotlyDisplay object>"
      ]
     },
     "execution_count": 9,
     "metadata": {},
     "output_type": "execute_result"
    }
   ],
   "source": [
    "fig_pos = ff.create_distplot(pos_sent, pos_labels, show_hist=False, show_rug=False)\n",
    "py.iplot(fig_pos, filename='Plot of Pos Sentiment')"
   ]
  },
  {
   "cell_type": "code",
   "execution_count": 10,
   "metadata": {},
   "outputs": [
    {
     "data": {
      "text/html": [
       "<iframe id=\"igraph\" scrolling=\"no\" style=\"border:none;\" seamless=\"seamless\" src=\"https://plot.ly/~rsharma441/12.embed\" height=\"525px\" width=\"100%\"></iframe>"
      ],
      "text/plain": [
       "<plotly.tools.PlotlyDisplay object>"
      ]
     },
     "execution_count": 10,
     "metadata": {},
     "output_type": "execute_result"
    }
   ],
   "source": [
    "fig_comp = ff.create_distplot(comp_sent, comp_labels, show_hist=False, show_rug=False)\n",
    "py.iplot(fig_comp, filename='Plot of Comp Sentiment')"
   ]
  },
  {
   "cell_type": "markdown",
   "metadata": {},
   "source": [
    "### Part of Speech"
   ]
  },
  {
   "cell_type": "code",
   "execution_count": 11,
   "metadata": {
    "collapsed": true
   },
   "outputs": [],
   "source": [
    "import re, string\n",
    "import math\n",
    "from nltk import pos_tag\n",
    "from nltk.tokenize import word_tokenize\n",
    "from sklearn.feature_extraction.text import CountVectorizer\n",
    "from statsmodels.stats.proportion import proportions_ztest\n",
    "import pos_helpers"
   ]
  },
  {
   "cell_type": "code",
   "execution_count": 12,
   "metadata": {
    "collapsed": true
   },
   "outputs": [],
   "source": [
    "poslist = ['PRP$','VBG','VBD','VBN',',',\"''\",'VBP','WDT','JJ','WP','VBZ','DT','RP','$','NN','POS','.','TO','PRP','RB','NNS','NNP','``','WRB','CC','PDT','RBR','CD','EX','IN','MD','NNPS','JJS','JJR','VB','UH','RBS',':','FW']\n",
    "right_answers=data['rightanswer'].apply(pos_helpers.remove_punc)\n",
    "wrong_answers=data['wronganswer'].apply(pos_helpers.remove_punc)"
   ]
  },
  {
   "cell_type": "code",
   "execution_count": 13,
   "metadata": {
    "collapsed": true
   },
   "outputs": [],
   "source": [
    "right_answers_pos=pd.DataFrame(right_answers.apply(word_tokenize).apply(pos_tag).apply(pos_helpers.first_element))\n",
    "right_answers_pos['unigrams']=right_answers_pos['rightanswer'].apply(lambda x: ' '.join(x))\n",
    "right_answers_pos['bigrams'] = right_answers_pos['rightanswer'].apply(pos_helpers.get_bigrams).apply(lambda x: ' '.join(x))"
   ]
  },
  {
   "cell_type": "code",
   "execution_count": 14,
   "metadata": {
    "collapsed": true
   },
   "outputs": [],
   "source": [
    "wrong_answers_pos=pd.DataFrame(wrong_answers.apply(word_tokenize).apply(pos_tag).apply(pos_helpers.first_element))\n",
    "wrong_answers_pos['unigrams']=wrong_answers_pos['wronganswer'].apply(lambda x: ' '.join(x))\n",
    "wrong_answers_pos['bigrams'] = wrong_answers_pos['wronganswer'].apply(pos_helpers.get_bigrams).apply(lambda x: ' '.join(x))"
   ]
  },
  {
   "cell_type": "code",
   "execution_count": 19,
   "metadata": {
    "collapsed": true
   },
   "outputs": [],
   "source": [
    "headers = {}\n",
    "\n",
    "right_uni_pos_matrix, headers['right_uni'] = pos_helpers.create_pos_matrix(right_answers_pos['unigrams'], data.index)\n",
    "wrong_uni_pos_matrix, headers['wrong_uni'] = pos_helpers.create_pos_matrix(wrong_answers_pos['unigrams'], data.index)\n",
    "right_bi_pos_matrix, headers['right_bi'] = pos_helpers.create_pos_matrix(right_answers_pos['bigrams'], data.index)\n",
    "wrong_bi_pos_matrix, headers['wrong_bi'] = pos_helpers.create_pos_matrix(wrong_answers_pos['bigrams'], data.index)\n",
    "#right_tri_pos_matrix, headers['right_tri'] = pos_helpers.create_pos_matrix(right_answers_pos['trigrams'], data.index)\n",
    "#wrong_tri_pos_matrix, headers['wrong_tri'] = pos_helpers.create_pos_matrix(wrong_answers_pos['trigrams'], data.index)\n",
    "\n",
    "\n",
    "right_pos_matrix = right_uni_pos_matrix.join(right_bi_pos_matrix)\n",
    "wrong_pos_matrix = wrong_uni_pos_matrix.join(wrong_bi_pos_matrix)\n",
    "\n",
    "pos_sizes = {}\n",
    "pos_sizes['r_uni'] = right_answers_pos['unigrams'].str.count(\" \")+1\n",
    "pos_sizes['r_bi'] = right_answers_pos['bigrams'].str.count(\" \")+1\n",
    "#pos_sizes['r_tri'] = right_answers_pos['trigrams'].str.count(\" \")+1\n",
    "pos_sizes['w_uni'] = wrong_answers_pos['unigrams'].str.count(\" \")+1\n",
    "pos_sizes['w_bi'] = wrong_answers_pos['bigrams'].str.count(\" \")+1\n",
    "#pos_sizes['w_tri'] = wrong_answers_pos['trigrams'].str.count(\" \")+1\n",
    "\n",
    "###hypothesis testing\n",
    "compare_dist=pos_helpers.compare_pos_dist(headers, pos_sizes, right_pos_matrix, wrong_pos_matrix)\n"
   ]
  },
  {
   "cell_type": "code",
   "execution_count": 20,
   "metadata": {
    "collapsed": true
   },
   "outputs": [],
   "source": [
    "pos_sizes = {}\n",
    "pos_sizes['r_uni'] = right_answers_pos['unigrams'].str.count(\" \")+1\n",
    "pos_sizes['r_bi'] = right_answers_pos['bigrams'].str.count(\" \")+1\n",
    "#pos_sizes['r_tri'] = right_answers_pos['trigrams'].str.count(\" \")+1\n",
    "pos_sizes['w_uni'] = wrong_answers_pos['unigrams'].str.count(\" \")+1\n",
    "pos_sizes['w_bi'] = wrong_answers_pos['bigrams'].str.count(\" \")+1\n",
    "#pos_sizes['w_tri'] = wrong_answers_pos['trigrams'].str.count(\" \")+1\n"
   ]
  },
  {
   "cell_type": "code",
   "execution_count": 34,
   "metadata": {},
   "outputs": [
    {
     "data": {
      "text/html": [
       "<div>\n",
       "<style>\n",
       "    .dataframe thead tr:only-child th {\n",
       "        text-align: right;\n",
       "    }\n",
       "\n",
       "    .dataframe thead th {\n",
       "        text-align: left;\n",
       "    }\n",
       "\n",
       "    .dataframe tbody tr th {\n",
       "        vertical-align: top;\n",
       "    }\n",
       "</style>\n",
       "<table border=\"1\" class=\"dataframe\">\n",
       "  <thead>\n",
       "    <tr style=\"text-align: right;\">\n",
       "      <th></th>\n",
       "      <th>code</th>\n",
       "      <th>pos</th>\n",
       "      <th>r_ct</th>\n",
       "      <th>w_ct</th>\n",
       "      <th>z</th>\n",
       "    </tr>\n",
       "  </thead>\n",
       "  <tbody>\n",
       "    <tr>\n",
       "      <th>14</th>\n",
       "      <td>B</td>\n",
       "      <td>vb</td>\n",
       "      <td>3418.0</td>\n",
       "      <td>531.0</td>\n",
       "      <td>0.010413</td>\n",
       "    </tr>\n",
       "    <tr>\n",
       "      <th>7</th>\n",
       "      <td>B</td>\n",
       "      <td>nn</td>\n",
       "      <td>3711.0</td>\n",
       "      <td>2299.0</td>\n",
       "      <td>0.004478</td>\n",
       "    </tr>\n",
       "    <tr>\n",
       "      <th>5</th>\n",
       "      <td>B</td>\n",
       "      <td>jj</td>\n",
       "      <td>973.0</td>\n",
       "      <td>686.0</td>\n",
       "      <td>0.001231</td>\n",
       "    </tr>\n",
       "    <tr>\n",
       "      <th>0</th>\n",
       "      <td>B</td>\n",
       "      <td>cc</td>\n",
       "      <td>359.0</td>\n",
       "      <td>253.0</td>\n",
       "      <td>0.000791</td>\n",
       "    </tr>\n",
       "    <tr>\n",
       "      <th>21</th>\n",
       "      <td>B</td>\n",
       "      <td>ccnn</td>\n",
       "      <td>70.0</td>\n",
       "      <td>29.0</td>\n",
       "      <td>0.000784</td>\n",
       "    </tr>\n",
       "    <tr>\n",
       "      <th>9</th>\n",
       "      <td>B</td>\n",
       "      <td>prp</td>\n",
       "      <td>1178.0</td>\n",
       "      <td>1029.0</td>\n",
       "      <td>0.000658</td>\n",
       "    </tr>\n",
       "    <tr>\n",
       "      <th>6</th>\n",
       "      <td>B</td>\n",
       "      <td>md</td>\n",
       "      <td>77.0</td>\n",
       "      <td>61.0</td>\n",
       "      <td>0.000233</td>\n",
       "    </tr>\n",
       "    <tr>\n",
       "      <th>1</th>\n",
       "      <td>B</td>\n",
       "      <td>cd</td>\n",
       "      <td>45.0</td>\n",
       "      <td>34.0</td>\n",
       "      <td>0.000207</td>\n",
       "    </tr>\n",
       "    <tr>\n",
       "      <th>3</th>\n",
       "      <td>B</td>\n",
       "      <td>ex</td>\n",
       "      <td>14.0</td>\n",
       "      <td>8.0</td>\n",
       "      <td>0.000193</td>\n",
       "    </tr>\n",
       "    <tr>\n",
       "      <th>18</th>\n",
       "      <td>B</td>\n",
       "      <td>ccdt</td>\n",
       "      <td>14.0</td>\n",
       "      <td>9.0</td>\n",
       "      <td>0.000181</td>\n",
       "    </tr>\n",
       "    <tr>\n",
       "      <th>17</th>\n",
       "      <td>B</td>\n",
       "      <td>wrb</td>\n",
       "      <td>58.0</td>\n",
       "      <td>46.0</td>\n",
       "      <td>0.000171</td>\n",
       "    </tr>\n",
       "    <tr>\n",
       "      <th>11</th>\n",
       "      <td>B</td>\n",
       "      <td>rp</td>\n",
       "      <td>129.0</td>\n",
       "      <td>114.0</td>\n",
       "      <td>0.000144</td>\n",
       "    </tr>\n",
       "    <tr>\n",
       "      <th>20</th>\n",
       "      <td>B</td>\n",
       "      <td>ccjj</td>\n",
       "      <td>17.0</td>\n",
       "      <td>13.0</td>\n",
       "      <td>0.000124</td>\n",
       "    </tr>\n",
       "    <tr>\n",
       "      <th>15</th>\n",
       "      <td>B</td>\n",
       "      <td>wdt</td>\n",
       "      <td>11.0</td>\n",
       "      <td>8.0</td>\n",
       "      <td>0.000113</td>\n",
       "    </tr>\n",
       "    <tr>\n",
       "      <th>16</th>\n",
       "      <td>B</td>\n",
       "      <td>wp</td>\n",
       "      <td>25.0</td>\n",
       "      <td>26.0</td>\n",
       "      <td>-0.000054</td>\n",
       "    </tr>\n",
       "    <tr>\n",
       "      <th>2</th>\n",
       "      <td>B</td>\n",
       "      <td>dt</td>\n",
       "      <td>1364.0</td>\n",
       "      <td>1376.0</td>\n",
       "      <td>-0.000066</td>\n",
       "    </tr>\n",
       "    <tr>\n",
       "      <th>8</th>\n",
       "      <td>B</td>\n",
       "      <td>pdt</td>\n",
       "      <td>14.0</td>\n",
       "      <td>19.0</td>\n",
       "      <td>-0.000177</td>\n",
       "    </tr>\n",
       "    <tr>\n",
       "      <th>12</th>\n",
       "      <td>B</td>\n",
       "      <td>to</td>\n",
       "      <td>497.0</td>\n",
       "      <td>518.0</td>\n",
       "      <td>-0.000280</td>\n",
       "    </tr>\n",
       "    <tr>\n",
       "      <th>10</th>\n",
       "      <td>B</td>\n",
       "      <td>rb</td>\n",
       "      <td>795.0</td>\n",
       "      <td>813.0</td>\n",
       "      <td>-0.000296</td>\n",
       "    </tr>\n",
       "    <tr>\n",
       "      <th>4</th>\n",
       "      <td>B</td>\n",
       "      <td>in</td>\n",
       "      <td>1023.0</td>\n",
       "      <td>1071.0</td>\n",
       "      <td>-0.000340</td>\n",
       "    </tr>\n",
       "  </tbody>\n",
       "</table>\n",
       "</div>"
      ],
      "text/plain": [
       "   code   pos    r_ct    w_ct         z\n",
       "14    B    vb  3418.0   531.0  0.010413\n",
       "7     B    nn  3711.0  2299.0  0.004478\n",
       "5     B    jj   973.0   686.0  0.001231\n",
       "0     B    cc   359.0   253.0  0.000791\n",
       "21    B  ccnn    70.0    29.0  0.000784\n",
       "9     B   prp  1178.0  1029.0  0.000658\n",
       "6     B    md    77.0    61.0  0.000233\n",
       "1     B    cd    45.0    34.0  0.000207\n",
       "3     B    ex    14.0     8.0  0.000193\n",
       "18    B  ccdt    14.0     9.0  0.000181\n",
       "17    B   wrb    58.0    46.0  0.000171\n",
       "11    B    rp   129.0   114.0  0.000144\n",
       "20    B  ccjj    17.0    13.0  0.000124\n",
       "15    B   wdt    11.0     8.0  0.000113\n",
       "16    B    wp    25.0    26.0 -0.000054\n",
       "2     B    dt  1364.0  1376.0 -0.000066\n",
       "8     B   pdt    14.0    19.0 -0.000177\n",
       "12    B    to   497.0   518.0 -0.000280\n",
       "10    B    rb   795.0   813.0 -0.000296\n",
       "4     B    in  1023.0  1071.0 -0.000340"
      ]
     },
     "execution_count": 34,
     "metadata": {},
     "output_type": "execute_result"
    }
   ],
   "source": [
    "compare_dist=pos_helpers.compare_pos_dist(headers, pos_sizes, right_pos_matrix, wrong_pos_matrix)\n",
    "compare_dist[compare_dist['code']=='B'].head(20).sort_values(by=['z', 'w_ct', 'r_ct'], ascending=[False, False, False])"
   ]
  },
  {
   "cell_type": "code",
   "execution_count": 31,
   "metadata": {},
   "outputs": [
    {
     "data": {
      "text/html": [
       "<div>\n",
       "<style>\n",
       "    .dataframe thead tr:only-child th {\n",
       "        text-align: right;\n",
       "    }\n",
       "\n",
       "    .dataframe thead th {\n",
       "        text-align: left;\n",
       "    }\n",
       "\n",
       "    .dataframe tbody tr th {\n",
       "        vertical-align: top;\n",
       "    }\n",
       "</style>\n",
       "<table border=\"1\" class=\"dataframe\">\n",
       "  <thead>\n",
       "    <tr style=\"text-align: right;\">\n",
       "      <th></th>\n",
       "      <th>code</th>\n",
       "      <th>pos</th>\n",
       "      <th>r_ct</th>\n",
       "      <th>w_ct</th>\n",
       "      <th>z</th>\n",
       "    </tr>\n",
       "  </thead>\n",
       "  <tbody>\n",
       "    <tr>\n",
       "      <th>179</th>\n",
       "      <td>W</td>\n",
       "      <td>vbd</td>\n",
       "      <td>0.0</td>\n",
       "      <td>2041.0</td>\n",
       "      <td>NaN</td>\n",
       "    </tr>\n",
       "    <tr>\n",
       "      <th>174</th>\n",
       "      <td>W</td>\n",
       "      <td>nnp</td>\n",
       "      <td>0.0</td>\n",
       "      <td>1199.0</td>\n",
       "      <td>NaN</td>\n",
       "    </tr>\n",
       "    <tr>\n",
       "      <th>176</th>\n",
       "      <td>W</td>\n",
       "      <td>nns</td>\n",
       "      <td>0.0</td>\n",
       "      <td>491.0</td>\n",
       "      <td>NaN</td>\n",
       "    </tr>\n",
       "    <tr>\n",
       "      <th>181</th>\n",
       "      <td>W</td>\n",
       "      <td>vbn</td>\n",
       "      <td>0.0</td>\n",
       "      <td>249.0</td>\n",
       "      <td>NaN</td>\n",
       "    </tr>\n",
       "    <tr>\n",
       "      <th>180</th>\n",
       "      <td>W</td>\n",
       "      <td>vbg</td>\n",
       "      <td>0.0</td>\n",
       "      <td>213.0</td>\n",
       "      <td>NaN</td>\n",
       "    </tr>\n",
       "    <tr>\n",
       "      <th>182</th>\n",
       "      <td>W</td>\n",
       "      <td>vbp</td>\n",
       "      <td>0.0</td>\n",
       "      <td>145.0</td>\n",
       "      <td>NaN</td>\n",
       "    </tr>\n",
       "    <tr>\n",
       "      <th>183</th>\n",
       "      <td>W</td>\n",
       "      <td>vbz</td>\n",
       "      <td>0.0</td>\n",
       "      <td>126.0</td>\n",
       "      <td>NaN</td>\n",
       "    </tr>\n",
       "    <tr>\n",
       "      <th>172</th>\n",
       "      <td>W</td>\n",
       "      <td>jjr</td>\n",
       "      <td>0.0</td>\n",
       "      <td>33.0</td>\n",
       "      <td>NaN</td>\n",
       "    </tr>\n",
       "    <tr>\n",
       "      <th>177</th>\n",
       "      <td>W</td>\n",
       "      <td>rbr</td>\n",
       "      <td>0.0</td>\n",
       "      <td>28.0</td>\n",
       "      <td>NaN</td>\n",
       "    </tr>\n",
       "    <tr>\n",
       "      <th>173</th>\n",
       "      <td>W</td>\n",
       "      <td>jjs</td>\n",
       "      <td>0.0</td>\n",
       "      <td>25.0</td>\n",
       "      <td>NaN</td>\n",
       "    </tr>\n",
       "    <tr>\n",
       "      <th>185</th>\n",
       "      <td>W</td>\n",
       "      <td>ccnnp</td>\n",
       "      <td>0.0</td>\n",
       "      <td>23.0</td>\n",
       "      <td>NaN</td>\n",
       "    </tr>\n",
       "    <tr>\n",
       "      <th>175</th>\n",
       "      <td>W</td>\n",
       "      <td>nnps</td>\n",
       "      <td>0.0</td>\n",
       "      <td>3.0</td>\n",
       "      <td>NaN</td>\n",
       "    </tr>\n",
       "    <tr>\n",
       "      <th>184</th>\n",
       "      <td>W</td>\n",
       "      <td>ccmd</td>\n",
       "      <td>0.0</td>\n",
       "      <td>2.0</td>\n",
       "      <td>NaN</td>\n",
       "    </tr>\n",
       "    <tr>\n",
       "      <th>171</th>\n",
       "      <td>W</td>\n",
       "      <td>fw</td>\n",
       "      <td>0.0</td>\n",
       "      <td>1.0</td>\n",
       "      <td>NaN</td>\n",
       "    </tr>\n",
       "    <tr>\n",
       "      <th>178</th>\n",
       "      <td>W</td>\n",
       "      <td>rbs</td>\n",
       "      <td>0.0</td>\n",
       "      <td>1.0</td>\n",
       "      <td>NaN</td>\n",
       "    </tr>\n",
       "  </tbody>\n",
       "</table>\n",
       "</div>"
      ],
      "text/plain": [
       "    code    pos  r_ct    w_ct   z\n",
       "179    W    vbd   0.0  2041.0 NaN\n",
       "174    W    nnp   0.0  1199.0 NaN\n",
       "176    W    nns   0.0   491.0 NaN\n",
       "181    W    vbn   0.0   249.0 NaN\n",
       "180    W    vbg   0.0   213.0 NaN\n",
       "182    W    vbp   0.0   145.0 NaN\n",
       "183    W    vbz   0.0   126.0 NaN\n",
       "172    W    jjr   0.0    33.0 NaN\n",
       "177    W    rbr   0.0    28.0 NaN\n",
       "173    W    jjs   0.0    25.0 NaN\n",
       "185    W  ccnnp   0.0    23.0 NaN\n",
       "175    W   nnps   0.0     3.0 NaN\n",
       "184    W   ccmd   0.0     2.0 NaN\n",
       "171    W     fw   0.0     1.0 NaN\n",
       "178    W    rbs   0.0     1.0 NaN"
      ]
     },
     "execution_count": 31,
     "metadata": {},
     "output_type": "execute_result"
    }
   ],
   "source": [
    "compare_dist[compare_dist['code']=='W'].head(15).sort_values(by=['w_ct'], ascending=[False])"
   ]
  },
  {
   "cell_type": "code",
   "execution_count": 33,
   "metadata": {},
   "outputs": [
    {
     "data": {
      "text/html": [
       "<div>\n",
       "<style>\n",
       "    .dataframe thead tr:only-child th {\n",
       "        text-align: right;\n",
       "    }\n",
       "\n",
       "    .dataframe thead th {\n",
       "        text-align: left;\n",
       "    }\n",
       "\n",
       "    .dataframe tbody tr th {\n",
       "        vertical-align: top;\n",
       "    }\n",
       "</style>\n",
       "<table border=\"1\" class=\"dataframe\">\n",
       "  <thead>\n",
       "    <tr style=\"text-align: right;\">\n",
       "      <th></th>\n",
       "      <th>code</th>\n",
       "      <th>pos</th>\n",
       "      <th>r_ct</th>\n",
       "      <th>w_ct</th>\n",
       "      <th>z</th>\n",
       "    </tr>\n",
       "  </thead>\n",
       "  <tbody>\n",
       "    <tr>\n",
       "      <th>68</th>\n",
       "      <td>R</td>\n",
       "      <td>jjvb</td>\n",
       "      <td>10.0</td>\n",
       "      <td>0.0</td>\n",
       "      <td>NaN</td>\n",
       "    </tr>\n",
       "    <tr>\n",
       "      <th>44</th>\n",
       "      <td>R</td>\n",
       "      <td>exvb</td>\n",
       "      <td>6.0</td>\n",
       "      <td>0.0</td>\n",
       "      <td>NaN</td>\n",
       "    </tr>\n",
       "    <tr>\n",
       "      <th>19</th>\n",
       "      <td>R</td>\n",
       "      <td>ccin</td>\n",
       "      <td>3.0</td>\n",
       "      <td>0.0</td>\n",
       "      <td>NaN</td>\n",
       "    </tr>\n",
       "    <tr>\n",
       "      <th>13</th>\n",
       "      <td>R</td>\n",
       "      <td>uh</td>\n",
       "      <td>2.0</td>\n",
       "      <td>0.0</td>\n",
       "      <td>NaN</td>\n",
       "    </tr>\n",
       "    <tr>\n",
       "      <th>25</th>\n",
       "      <td>R</td>\n",
       "      <td>cdcd</td>\n",
       "      <td>1.0</td>\n",
       "      <td>0.0</td>\n",
       "      <td>NaN</td>\n",
       "    </tr>\n",
       "    <tr>\n",
       "      <th>30</th>\n",
       "      <td>R</td>\n",
       "      <td>cdvb</td>\n",
       "      <td>1.0</td>\n",
       "      <td>0.0</td>\n",
       "      <td>NaN</td>\n",
       "    </tr>\n",
       "    <tr>\n",
       "      <th>31</th>\n",
       "      <td>R</td>\n",
       "      <td>cdwdt</td>\n",
       "      <td>1.0</td>\n",
       "      <td>0.0</td>\n",
       "      <td>NaN</td>\n",
       "    </tr>\n",
       "    <tr>\n",
       "      <th>39</th>\n",
       "      <td>R</td>\n",
       "      <td>dtrp</td>\n",
       "      <td>1.0</td>\n",
       "      <td>0.0</td>\n",
       "      <td>NaN</td>\n",
       "    </tr>\n",
       "    <tr>\n",
       "      <th>41</th>\n",
       "      <td>R</td>\n",
       "      <td>dtwp</td>\n",
       "      <td>1.0</td>\n",
       "      <td>0.0</td>\n",
       "      <td>NaN</td>\n",
       "    </tr>\n",
       "    <tr>\n",
       "      <th>42</th>\n",
       "      <td>R</td>\n",
       "      <td>excc</td>\n",
       "      <td>1.0</td>\n",
       "      <td>0.0</td>\n",
       "      <td>NaN</td>\n",
       "    </tr>\n",
       "    <tr>\n",
       "      <th>69</th>\n",
       "      <td>R</td>\n",
       "      <td>jjwdt</td>\n",
       "      <td>1.0</td>\n",
       "      <td>0.0</td>\n",
       "      <td>NaN</td>\n",
       "    </tr>\n",
       "    <tr>\n",
       "      <th>93</th>\n",
       "      <td>R</td>\n",
       "      <td>prpcd</td>\n",
       "      <td>1.0</td>\n",
       "      <td>0.0</td>\n",
       "      <td>NaN</td>\n",
       "    </tr>\n",
       "    <tr>\n",
       "      <th>95</th>\n",
       "      <td>R</td>\n",
       "      <td>prpex</td>\n",
       "      <td>1.0</td>\n",
       "      <td>0.0</td>\n",
       "      <td>NaN</td>\n",
       "    </tr>\n",
       "    <tr>\n",
       "      <th>105</th>\n",
       "      <td>R</td>\n",
       "      <td>prpwdt</td>\n",
       "      <td>1.0</td>\n",
       "      <td>0.0</td>\n",
       "      <td>NaN</td>\n",
       "    </tr>\n",
       "    <tr>\n",
       "      <th>107</th>\n",
       "      <td>R</td>\n",
       "      <td>rbcd</td>\n",
       "      <td>1.0</td>\n",
       "      <td>0.0</td>\n",
       "      <td>NaN</td>\n",
       "    </tr>\n",
       "  </tbody>\n",
       "</table>\n",
       "</div>"
      ],
      "text/plain": [
       "    code     pos  r_ct  w_ct   z\n",
       "68     R    jjvb  10.0   0.0 NaN\n",
       "44     R    exvb   6.0   0.0 NaN\n",
       "19     R    ccin   3.0   0.0 NaN\n",
       "13     R      uh   2.0   0.0 NaN\n",
       "25     R    cdcd   1.0   0.0 NaN\n",
       "30     R    cdvb   1.0   0.0 NaN\n",
       "31     R   cdwdt   1.0   0.0 NaN\n",
       "39     R    dtrp   1.0   0.0 NaN\n",
       "41     R    dtwp   1.0   0.0 NaN\n",
       "42     R    excc   1.0   0.0 NaN\n",
       "69     R   jjwdt   1.0   0.0 NaN\n",
       "93     R   prpcd   1.0   0.0 NaN\n",
       "95     R   prpex   1.0   0.0 NaN\n",
       "105    R  prpwdt   1.0   0.0 NaN\n",
       "107    R    rbcd   1.0   0.0 NaN"
      ]
     },
     "execution_count": 33,
     "metadata": {},
     "output_type": "execute_result"
    }
   ],
   "source": [
    "compare_dist[compare_dist['code']=='R'].head(15).sort_values(by=['r_ct'], ascending=[False])"
   ]
  },
  {
   "cell_type": "markdown",
   "metadata": {},
   "source": [
    "#### Bucketed POS\n",
    "Instead of having fully treebank of POS, we bucket some (i.e. JJ, JJR and JJS all map to JJ) "
   ]
  },
  {
   "cell_type": "code",
   "execution_count": 46,
   "metadata": {},
   "outputs": [
    {
     "data": {
      "text/html": [
       "<div>\n",
       "<style>\n",
       "    .dataframe thead tr:only-child th {\n",
       "        text-align: right;\n",
       "    }\n",
       "\n",
       "    .dataframe thead th {\n",
       "        text-align: left;\n",
       "    }\n",
       "\n",
       "    .dataframe tbody tr th {\n",
       "        vertical-align: top;\n",
       "    }\n",
       "</style>\n",
       "<table border=\"1\" class=\"dataframe\">\n",
       "  <thead>\n",
       "    <tr style=\"text-align: right;\">\n",
       "      <th></th>\n",
       "      <th>code</th>\n",
       "      <th>pos</th>\n",
       "      <th>r_ct</th>\n",
       "      <th>w_ct</th>\n",
       "      <th>z</th>\n",
       "    </tr>\n",
       "  </thead>\n",
       "  <tbody>\n",
       "    <tr>\n",
       "      <th>5</th>\n",
       "      <td>B</td>\n",
       "      <td>jj</td>\n",
       "      <td>973.0</td>\n",
       "      <td>744.0</td>\n",
       "      <td>0.000951</td>\n",
       "    </tr>\n",
       "    <tr>\n",
       "      <th>0</th>\n",
       "      <td>B</td>\n",
       "      <td>cc</td>\n",
       "      <td>359.0</td>\n",
       "      <td>253.0</td>\n",
       "      <td>0.000791</td>\n",
       "    </tr>\n",
       "    <tr>\n",
       "      <th>9</th>\n",
       "      <td>B</td>\n",
       "      <td>prp</td>\n",
       "      <td>1178.0</td>\n",
       "      <td>1029.0</td>\n",
       "      <td>0.000658</td>\n",
       "    </tr>\n",
       "    <tr>\n",
       "      <th>14</th>\n",
       "      <td>B</td>\n",
       "      <td>vb</td>\n",
       "      <td>3418.0</td>\n",
       "      <td>3305.0</td>\n",
       "      <td>0.000320</td>\n",
       "    </tr>\n",
       "    <tr>\n",
       "      <th>6</th>\n",
       "      <td>B</td>\n",
       "      <td>md</td>\n",
       "      <td>77.0</td>\n",
       "      <td>61.0</td>\n",
       "      <td>0.000233</td>\n",
       "    </tr>\n",
       "    <tr>\n",
       "      <th>1</th>\n",
       "      <td>B</td>\n",
       "      <td>cd</td>\n",
       "      <td>45.0</td>\n",
       "      <td>34.0</td>\n",
       "      <td>0.000207</td>\n",
       "    </tr>\n",
       "    <tr>\n",
       "      <th>3</th>\n",
       "      <td>B</td>\n",
       "      <td>ex</td>\n",
       "      <td>14.0</td>\n",
       "      <td>8.0</td>\n",
       "      <td>0.000193</td>\n",
       "    </tr>\n",
       "    <tr>\n",
       "      <th>18</th>\n",
       "      <td>B</td>\n",
       "      <td>ccdt</td>\n",
       "      <td>14.0</td>\n",
       "      <td>9.0</td>\n",
       "      <td>0.000181</td>\n",
       "    </tr>\n",
       "    <tr>\n",
       "      <th>17</th>\n",
       "      <td>B</td>\n",
       "      <td>wrb</td>\n",
       "      <td>58.0</td>\n",
       "      <td>46.0</td>\n",
       "      <td>0.000171</td>\n",
       "    </tr>\n",
       "    <tr>\n",
       "      <th>11</th>\n",
       "      <td>B</td>\n",
       "      <td>rp</td>\n",
       "      <td>129.0</td>\n",
       "      <td>114.0</td>\n",
       "      <td>0.000144</td>\n",
       "    </tr>\n",
       "    <tr>\n",
       "      <th>20</th>\n",
       "      <td>B</td>\n",
       "      <td>ccjj</td>\n",
       "      <td>17.0</td>\n",
       "      <td>13.0</td>\n",
       "      <td>0.000124</td>\n",
       "    </tr>\n",
       "    <tr>\n",
       "      <th>15</th>\n",
       "      <td>B</td>\n",
       "      <td>wdt</td>\n",
       "      <td>11.0</td>\n",
       "      <td>8.0</td>\n",
       "      <td>0.000113</td>\n",
       "    </tr>\n",
       "    <tr>\n",
       "      <th>21</th>\n",
       "      <td>B</td>\n",
       "      <td>ccnn</td>\n",
       "      <td>70.0</td>\n",
       "      <td>64.0</td>\n",
       "      <td>0.000021</td>\n",
       "    </tr>\n",
       "    <tr>\n",
       "      <th>16</th>\n",
       "      <td>B</td>\n",
       "      <td>wp</td>\n",
       "      <td>25.0</td>\n",
       "      <td>26.0</td>\n",
       "      <td>-0.000054</td>\n",
       "    </tr>\n",
       "    <tr>\n",
       "      <th>2</th>\n",
       "      <td>B</td>\n",
       "      <td>dt</td>\n",
       "      <td>1364.0</td>\n",
       "      <td>1376.0</td>\n",
       "      <td>-0.000066</td>\n",
       "    </tr>\n",
       "    <tr>\n",
       "      <th>8</th>\n",
       "      <td>B</td>\n",
       "      <td>pdt</td>\n",
       "      <td>14.0</td>\n",
       "      <td>19.0</td>\n",
       "      <td>-0.000177</td>\n",
       "    </tr>\n",
       "    <tr>\n",
       "      <th>12</th>\n",
       "      <td>B</td>\n",
       "      <td>to</td>\n",
       "      <td>497.0</td>\n",
       "      <td>518.0</td>\n",
       "      <td>-0.000280</td>\n",
       "    </tr>\n",
       "    <tr>\n",
       "      <th>4</th>\n",
       "      <td>B</td>\n",
       "      <td>in</td>\n",
       "      <td>1023.0</td>\n",
       "      <td>1071.0</td>\n",
       "      <td>-0.000340</td>\n",
       "    </tr>\n",
       "    <tr>\n",
       "      <th>10</th>\n",
       "      <td>B</td>\n",
       "      <td>rb</td>\n",
       "      <td>795.0</td>\n",
       "      <td>842.0</td>\n",
       "      <td>-0.000443</td>\n",
       "    </tr>\n",
       "    <tr>\n",
       "      <th>7</th>\n",
       "      <td>B</td>\n",
       "      <td>nn</td>\n",
       "      <td>3711.0</td>\n",
       "      <td>3992.0</td>\n",
       "      <td>-0.000995</td>\n",
       "    </tr>\n",
       "  </tbody>\n",
       "</table>\n",
       "</div>"
      ],
      "text/plain": [
       "   code   pos    r_ct    w_ct         z\n",
       "5     B    jj   973.0   744.0  0.000951\n",
       "0     B    cc   359.0   253.0  0.000791\n",
       "9     B   prp  1178.0  1029.0  0.000658\n",
       "14    B    vb  3418.0  3305.0  0.000320\n",
       "6     B    md    77.0    61.0  0.000233\n",
       "1     B    cd    45.0    34.0  0.000207\n",
       "3     B    ex    14.0     8.0  0.000193\n",
       "18    B  ccdt    14.0     9.0  0.000181\n",
       "17    B   wrb    58.0    46.0  0.000171\n",
       "11    B    rp   129.0   114.0  0.000144\n",
       "20    B  ccjj    17.0    13.0  0.000124\n",
       "15    B   wdt    11.0     8.0  0.000113\n",
       "21    B  ccnn    70.0    64.0  0.000021\n",
       "16    B    wp    25.0    26.0 -0.000054\n",
       "2     B    dt  1364.0  1376.0 -0.000066\n",
       "8     B   pdt    14.0    19.0 -0.000177\n",
       "12    B    to   497.0   518.0 -0.000280\n",
       "4     B    in  1023.0  1071.0 -0.000340\n",
       "10    B    rb   795.0   842.0 -0.000443\n",
       "7     B    nn  3711.0  3992.0 -0.000995"
      ]
     },
     "execution_count": 46,
     "metadata": {},
     "output_type": "execute_result"
    }
   ],
   "source": [
    "right_answers_pos=pd.DataFrame(right_answers.apply(word_tokenize).apply(pos_tag).apply(pos_helpers.first_element_bucket))\n",
    "right_answers_pos['unigrams']=right_answers_pos['rightanswer'].apply(lambda x: ' '.join(x))\n",
    "right_answers_pos['bigrams'] = right_answers_pos['rightanswer'].apply(pos_helpers.get_bigrams).apply(lambda x: ' '.join(x))\n",
    "#right_answers_pos['trigrams'] = right_answers_pos['rightanswer'].apply(pos_helpers.get_trigrams).apply(lambda x: ' '.join(x))\n",
    "\n",
    "wrong_answers_pos=pd.DataFrame(wrong_answers.apply(word_tokenize).apply(pos_tag).apply(pos_helpers.first_element_bucket))\n",
    "wrong_answers_pos['unigrams']=wrong_answers_pos['wronganswer'].apply(lambda x: ' '.join(x))\n",
    "wrong_answers_pos['bigrams'] = wrong_answers_pos['wronganswer'].apply(pos_helpers.get_bigrams).apply(lambda x: ' '.join(x))\n",
    "#wrong_answers_pos['trigrams'] = wrong_answers_pos['wronganswer'].apply(pos_helpers.get_trigrams).apply(lambda x: ' '.join(x))\n",
    "\n",
    "headers = {}\n",
    "\n",
    "right_uni_pos_matrix, headers['right_uni'] = pos_helpers.create_pos_matrix(right_answers_pos['unigrams'], data.index)\n",
    "wrong_uni_pos_matrix, headers['wrong_uni'] = pos_helpers.create_pos_matrix(wrong_answers_pos['unigrams'], data.index)\n",
    "right_bi_pos_matrix, headers['right_bi'] = pos_helpers.create_pos_matrix(right_answers_pos['bigrams'], data.index)\n",
    "wrong_bi_pos_matrix, headers['wrong_bi'] = pos_helpers.create_pos_matrix(wrong_answers_pos['bigrams'], data.index)\n",
    "#right_tri_pos_matrix, headers['right_tri'] = pos_helpers.create_pos_matrix(right_answers_pos['trigrams'], data.index)\n",
    "#wrong_tri_pos_matrix, headers['wrong_tri'] = pos_helpers.create_pos_matrix(wrong_answers_pos['trigrams'], data.index)\n",
    "\n",
    "\n",
    "right_pos_matrix = right_uni_pos_matrix.join(right_bi_pos_matrix)\n",
    "wrong_pos_matrix = wrong_uni_pos_matrix.join(wrong_bi_pos_matrix)\n",
    "\n",
    "pos_sizes = {}\n",
    "pos_sizes['r_uni'] = right_answers_pos['unigrams'].str.count(\" \")+1\n",
    "pos_sizes['r_bi'] = right_answers_pos['bigrams'].str.count(\" \")+1\n",
    "#pos_sizes['r_tri'] = right_answers_pos['trigrams'].str.count(\" \")+1\n",
    "pos_sizes['w_uni'] = wrong_answers_pos['unigrams'].str.count(\" \")+1\n",
    "pos_sizes['w_bi'] = wrong_answers_pos['bigrams'].str.count(\" \")+1\n",
    "#pos_sizes['w_tri'] = wrong_answers_pos['trigrams'].str.count(\" \")+1\n",
    "compare_dist_bucket=pos_helpers.compare_pos_dist(headers, pos_sizes, right_pos_matrix, wrong_pos_matrix)\n",
    "compare_dist_bucket[compare_dist_bucket['code']=='B'].head(20).sort_values(by=['z', 'w_ct', 'r_ct'], ascending=[False, False, False])"
   ]
  },
  {
   "cell_type": "code",
   "execution_count": 51,
   "metadata": {},
   "outputs": [
    {
     "data": {
      "text/html": [
       "<div>\n",
       "<style>\n",
       "    .dataframe thead tr:only-child th {\n",
       "        text-align: right;\n",
       "    }\n",
       "\n",
       "    .dataframe thead th {\n",
       "        text-align: left;\n",
       "    }\n",
       "\n",
       "    .dataframe tbody tr th {\n",
       "        vertical-align: top;\n",
       "    }\n",
       "</style>\n",
       "<table border=\"1\" class=\"dataframe\">\n",
       "  <thead>\n",
       "    <tr style=\"text-align: right;\">\n",
       "      <th></th>\n",
       "      <th>code</th>\n",
       "      <th>pos</th>\n",
       "      <th>r_ct</th>\n",
       "      <th>w_ct</th>\n",
       "      <th>z</th>\n",
       "    </tr>\n",
       "  </thead>\n",
       "  <tbody>\n",
       "    <tr>\n",
       "      <th>172</th>\n",
       "      <td>W</td>\n",
       "      <td>ccmd</td>\n",
       "      <td>0.0</td>\n",
       "      <td>2.0</td>\n",
       "      <td>NaN</td>\n",
       "    </tr>\n",
       "    <tr>\n",
       "      <th>171</th>\n",
       "      <td>W</td>\n",
       "      <td>fw</td>\n",
       "      <td>0.0</td>\n",
       "      <td>1.0</td>\n",
       "      <td>NaN</td>\n",
       "    </tr>\n",
       "    <tr>\n",
       "      <th>173</th>\n",
       "      <td>W</td>\n",
       "      <td>ccpdt</td>\n",
       "      <td>0.0</td>\n",
       "      <td>1.0</td>\n",
       "      <td>NaN</td>\n",
       "    </tr>\n",
       "    <tr>\n",
       "      <th>174</th>\n",
       "      <td>W</td>\n",
       "      <td>ccto</td>\n",
       "      <td>0.0</td>\n",
       "      <td>1.0</td>\n",
       "      <td>NaN</td>\n",
       "    </tr>\n",
       "    <tr>\n",
       "      <th>175</th>\n",
       "      <td>W</td>\n",
       "      <td>ccwrb</td>\n",
       "      <td>0.0</td>\n",
       "      <td>1.0</td>\n",
       "      <td>NaN</td>\n",
       "    </tr>\n",
       "  </tbody>\n",
       "</table>\n",
       "</div>"
      ],
      "text/plain": [
       "    code    pos  r_ct  w_ct   z\n",
       "172    W   ccmd   0.0   2.0 NaN\n",
       "171    W     fw   0.0   1.0 NaN\n",
       "173    W  ccpdt   0.0   1.0 NaN\n",
       "174    W   ccto   0.0   1.0 NaN\n",
       "175    W  ccwrb   0.0   1.0 NaN"
      ]
     },
     "execution_count": 51,
     "metadata": {},
     "output_type": "execute_result"
    }
   ],
   "source": [
    "compare_dist_bucket[compare_dist_bucket['code']=='W'].head(5).sort_values(by=['w_ct'], ascending=[False])"
   ]
  },
  {
   "cell_type": "code",
   "execution_count": 50,
   "metadata": {},
   "outputs": [
    {
     "data": {
      "text/html": [
       "<div>\n",
       "<style>\n",
       "    .dataframe thead tr:only-child th {\n",
       "        text-align: right;\n",
       "    }\n",
       "\n",
       "    .dataframe thead th {\n",
       "        text-align: left;\n",
       "    }\n",
       "\n",
       "    .dataframe tbody tr th {\n",
       "        vertical-align: top;\n",
       "    }\n",
       "</style>\n",
       "<table border=\"1\" class=\"dataframe\">\n",
       "  <thead>\n",
       "    <tr style=\"text-align: right;\">\n",
       "      <th></th>\n",
       "      <th>code</th>\n",
       "      <th>pos</th>\n",
       "      <th>r_ct</th>\n",
       "      <th>w_ct</th>\n",
       "      <th>z</th>\n",
       "    </tr>\n",
       "  </thead>\n",
       "  <tbody>\n",
       "    <tr>\n",
       "      <th>19</th>\n",
       "      <td>R</td>\n",
       "      <td>ccin</td>\n",
       "      <td>3.0</td>\n",
       "      <td>0.0</td>\n",
       "      <td>NaN</td>\n",
       "    </tr>\n",
       "    <tr>\n",
       "      <th>13</th>\n",
       "      <td>R</td>\n",
       "      <td>uh</td>\n",
       "      <td>2.0</td>\n",
       "      <td>0.0</td>\n",
       "      <td>NaN</td>\n",
       "    </tr>\n",
       "    <tr>\n",
       "      <th>25</th>\n",
       "      <td>R</td>\n",
       "      <td>cdcd</td>\n",
       "      <td>1.0</td>\n",
       "      <td>0.0</td>\n",
       "      <td>NaN</td>\n",
       "    </tr>\n",
       "    <tr>\n",
       "      <th>31</th>\n",
       "      <td>R</td>\n",
       "      <td>cdwdt</td>\n",
       "      <td>1.0</td>\n",
       "      <td>0.0</td>\n",
       "      <td>NaN</td>\n",
       "    </tr>\n",
       "    <tr>\n",
       "      <th>39</th>\n",
       "      <td>R</td>\n",
       "      <td>dtrp</td>\n",
       "      <td>1.0</td>\n",
       "      <td>0.0</td>\n",
       "      <td>NaN</td>\n",
       "    </tr>\n",
       "  </tbody>\n",
       "</table>\n",
       "</div>"
      ],
      "text/plain": [
       "   code    pos  r_ct  w_ct   z\n",
       "19    R   ccin   3.0   0.0 NaN\n",
       "13    R     uh   2.0   0.0 NaN\n",
       "25    R   cdcd   1.0   0.0 NaN\n",
       "31    R  cdwdt   1.0   0.0 NaN\n",
       "39    R   dtrp   1.0   0.0 NaN"
      ]
     },
     "execution_count": 50,
     "metadata": {},
     "output_type": "execute_result"
    }
   ],
   "source": [
    "compare_dist_bucket[compare_dist_bucket['code']=='R'].head(5).sort_values(by=['r_ct'], ascending=[False])"
   ]
  },
  {
   "cell_type": "markdown",
   "metadata": {},
   "source": [
    "### Sentence Complexity"
   ]
  },
  {
   "cell_type": "markdown",
   "metadata": {},
   "source": [
    "#### Yngve Score"
   ]
  },
  {
   "cell_type": "code",
   "execution_count": 56,
   "metadata": {},
   "outputs": [],
   "source": [
    "right_yngve=pd.read_csv('complexity/yngve_rightout.csv', delimiter='\\t')\n",
    "right_yngve.index = data.index\n",
    "wrong_yngve=pd.read_csv('complexity/yngve_wrongout.csv', delimiter='\\t')\n",
    "wrong_yngve.index = data.index"
   ]
  },
  {
   "cell_type": "code",
   "execution_count": 69,
   "metadata": {},
   "outputs": [
    {
     "name": "stdout",
     "output_type": "stream",
     "text": [
      "('Avg Yngve Score of Right Ans:', 1.1865285673409645, 'Avg Length of Wrong Ans:', 1.1416608140953382)\n"
     ]
    }
   ],
   "source": [
    "yngve_test = stats.ttest_ind(right_yngve['right_yngve'],wrong_yngve['wrong_yngve'],equal_var=True)\n",
    "print('Avg Yngve Score of Right Ans:' , right_yngve['right_yngve'].mean(), 'Avg Length of Wrong Ans:' , wrong_yngve['wrong_yngve'].mean())"
   ]
  },
  {
   "cell_type": "code",
   "execution_count": 63,
   "metadata": {},
   "outputs": [
    {
     "name": "stdout",
     "output_type": "stream",
     "text": [
      "('Yngve Hypothesis Test:', Ttest_indResult(statistic=0.47413139813903116, pvalue=0.63543401142994316))\n"
     ]
    }
   ],
   "source": [
    "print('Yngve Hypothesis Test:', yngve_test)"
   ]
  },
  {
   "cell_type": "markdown",
   "metadata": {},
   "source": [
    "#### Frazier Score"
   ]
  },
  {
   "cell_type": "code",
   "execution_count": 60,
   "metadata": {},
   "outputs": [],
   "source": [
    "right_frazier=pd.read_csv('complexity/frazier_rightout.csv', delimiter='\\t')\n",
    "right_frazier.index = data.index\n",
    "wrong_frazier=pd.read_csv('complexity/frazier_wrongout.csv', delimiter='\\t')\n",
    "wrong_frazier.index = data.index"
   ]
  },
  {
   "cell_type": "code",
   "execution_count": 67,
   "metadata": {},
   "outputs": [
    {
     "name": "stdout",
     "output_type": "stream",
     "text": [
      "('Avg Frazier Score of Right Ans:', 1.0807256557356726, 'Avg Length of Wrong Ans:', 1.0772400798322708)\n"
     ]
    }
   ],
   "source": [
    "frazier_test = stats.ttest_ind(right_frazier['right_frazier'],wrong_frazier['wrong_frazier'],equal_var=True)\n",
    "print('Avg Frazier Score of Right Ans:' , right_frazier['right_frazier'].mean(), 'Avg Length of Wrong Ans:' , wrong_frazier['wrong_frazier'].mean())\n"
   ]
  },
  {
   "cell_type": "code",
   "execution_count": 68,
   "metadata": {},
   "outputs": [
    {
     "name": "stdout",
     "output_type": "stream",
     "text": [
      "('FrazierHypothesis Test:', Ttest_indResult(statistic=0.47413139813903116, pvalue=0.6354338880800825))\n"
     ]
    }
   ],
   "source": [
    "print('FrazierHypothesis Test:', frazier_test)"
   ]
  },
  {
   "cell_type": "code",
   "execution_count": null,
   "metadata": {
    "collapsed": true
   },
   "outputs": [],
   "source": []
  }
 ],
 "metadata": {
  "kernelspec": {
   "display_name": "Python 2",
   "language": "python",
   "name": "python2"
  },
  "language_info": {
   "codemirror_mode": {
    "name": "ipython",
    "version": 2
   },
   "file_extension": ".py",
   "mimetype": "text/x-python",
   "name": "python",
   "nbconvert_exporter": "python",
   "pygments_lexer": "ipython2",
   "version": "2.7.13"
  }
 },
 "nbformat": 4,
 "nbformat_minor": 2
}
